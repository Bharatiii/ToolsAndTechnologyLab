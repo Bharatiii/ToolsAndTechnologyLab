{
 "cells": [
  {
   "cell_type": "code",
   "execution_count": 1,
   "id": "accede8b",
   "metadata": {},
   "outputs": [],
   "source": [
    "import numpy as np"
   ]
  },
  {
   "cell_type": "code",
   "execution_count": 3,
   "id": "2bfb57c1",
   "metadata": {},
   "outputs": [
    {
     "name": "stdout",
     "output_type": "stream",
     "text": [
      "[1 2 3 4 5]\n"
     ]
    }
   ],
   "source": [
    "#Creating numpy array using different method\n",
    "array_from_list=np.array([1,2,3,4,5])\n",
    "print (array_from_list)"
   ]
  },
  {
   "cell_type": "code",
   "execution_count": 5,
   "id": "06909e95",
   "metadata": {},
   "outputs": [
    {
     "name": "stdout",
     "output_type": "stream",
     "text": [
      "[0. 0. 0. 0. 0. 0. 0. 0. 0. 0.]\n"
     ]
    }
   ],
   "source": [
    "#creating array filled with zeros\n",
    "array_zeros=np.zeros(10)\n",
    "print(array_zeros)\n"
   ]
  },
  {
   "cell_type": "code",
   "execution_count": 7,
   "id": "c3d065be",
   "metadata": {},
   "outputs": [
    {
     "name": "stdout",
     "output_type": "stream",
     "text": [
      "[1 2 3 4 5 6 7 8 9]\n"
     ]
    }
   ],
   "source": [
    "#Creating an array filled with range of values\n",
    "array_arange=np.arange(1,10)\n",
    "print(array_arange)"
   ]
  },
  {
   "cell_type": "code",
   "execution_count": 14,
   "id": "db0e753c",
   "metadata": {},
   "outputs": [
    {
     "name": "stdout",
     "output_type": "stream",
     "text": [
      "[46 69  5  7 50 13  7]\n",
      "[ 45 134   6  12 225  42   0]\n",
      "[-44 -65   1   1 -40  -1   7]\n",
      "[0.02222222 0.02985075 1.5        1.33333333 0.11111111 0.85714286\n",
      "        inf]\n"
     ]
    },
    {
     "name": "stderr",
     "output_type": "stream",
     "text": [
      "C:\\Users\\KIIT\\AppData\\Local\\Temp\\ipykernel_11936\\3203916302.py:16: RuntimeWarning: divide by zero encountered in divide\n",
      "  numpy_dev=array_a/array_b\n"
     ]
    }
   ],
   "source": [
    "#performing mathematical operation on numpy\n",
    "array_a=np.array([1,2,3,4,5,6,7])\n",
    "array_b=np.array([45,67,2,3,45,7,0])\n",
    "numpy_add=array_a+array_b\n",
    "print(numpy_add)\n",
    "\n",
    "#numpy multiplication \n",
    "numpy_multiplication=array_a*array_b\n",
    "print(numpy_multiplication)\n",
    "\n",
    "#numpy Subtraction \n",
    "numpy_substraction=array_a-array_b\n",
    "print(numpy_substraction)\n",
    "\n",
    "#numpy Division \n",
    "numpy_dev=array_a/array_b\n",
    "print(numpy_dev)"
   ]
  },
  {
   "cell_type": "code",
   "execution_count": 18,
   "id": "174a2f1d",
   "metadata": {},
   "outputs": [
    {
     "name": "stdout",
     "output_type": "stream",
     "text": [
      "[23 45 67 89 23 12]\n",
      "67\n",
      "[45 67 89]\n"
     ]
    }
   ],
   "source": [
    "#indexing and slicing\n",
    "array_c=np.array([23,45,67,89,23,12])\n",
    "print(array_c)\n",
    "print(array_c[2])\n",
    "print(array_c[1:4])"
   ]
  },
  {
   "cell_type": "code",
   "execution_count": 20,
   "id": "f6229e40",
   "metadata": {},
   "outputs": [
    {
     "name": "stdout",
     "output_type": "stream",
     "text": [
      "43.166666666666664\n"
     ]
    }
   ],
   "source": [
    "#Statistical Analysis\n",
    "array_mean=print(np.mean(array_c))"
   ]
  },
  {
   "cell_type": "code",
   "execution_count": 22,
   "id": "f8041310",
   "metadata": {},
   "outputs": [
    {
     "name": "stdout",
     "output_type": "stream",
     "text": [
      "34.0\n",
      "23\n"
     ]
    }
   ],
   "source": [
    "#Find out the median of array elements\n",
    "array_median=print(np.median(array_c))\n",
    "\n",
    "#find out the mode of array elements given\n",
    "array_mode=print (np.argmax(np.bincount(array_c)))"
   ]
  },
  {
   "cell_type": "code",
   "execution_count": 24,
   "id": "a1c35f92",
   "metadata": {},
   "outputs": [
    {
     "name": "stdout",
     "output_type": "stream",
     "text": [
      "[[23 45 67 89 23 12]]\n",
      "[[23]\n",
      " [45]\n",
      " [67]\n",
      " [89]\n",
      " [23]\n",
      " [12]]\n"
     ]
    }
   ],
   "source": [
    "#reshaping Array\n",
    "array_reshaped=array_c.reshape((1,6))\n",
    "print(array_reshaped)\n",
    "\n",
    "array_transposed=array_reshaped.T\n",
    "print(array_transposed)"
   ]
  },
  {
   "cell_type": "code",
   "execution_count": 25,
   "id": "88fc85b5",
   "metadata": {},
   "outputs": [
    {
     "name": "stdout",
     "output_type": "stream",
     "text": [
      "1D array: [1 2 3 4 5]\n",
      "2D array:\n",
      " [[0. 0. 0.]\n",
      " [0. 0. 0.]\n",
      " [0. 0. 0.]]\n"
     ]
    }
   ],
   "source": [
    "'''create an 1D array with elements from 1 to 5. also create a 2D array with shape(3,3) \n",
    "filled with zeros.'''\n",
    "\n",
    "# Create a 1D array with elements from 1 to 5\n",
    "one_d_array = np.arange(1, 6)\n",
    "\n",
    "# Create a 2D array with shape (3, 3) filled with zeros\n",
    "two_d_array = np.zeros((3, 3))\n",
    "\n",
    "# Print the arrays\n",
    "print(\"1D array:\", one_d_array)\n",
    "print(\"2D array:\\n\", two_d_array)\n"
   ]
  },
  {
   "cell_type": "code",
   "execution_count": 26,
   "id": "d7b87eda",
   "metadata": {},
   "outputs": [
    {
     "name": "stdout",
     "output_type": "stream",
     "text": [
      "Element-wise addition:\n",
      " [ 7  9 11 13 15]\n",
      "Element-wise subtraction:\n",
      " [-5 -5 -5 -5 -5]\n"
     ]
    }
   ],
   "source": [
    "'''Take 2 Array and perform element wise addition and subtractions.'''\n",
    "\n",
    "# Create two NumPy arrays\n",
    "array1 = np.array([1, 2, 3, 4, 5])\n",
    "array2 = np.array([6, 7, 8, 9, 10])\n",
    "\n",
    "# Perform element-wise addition and subtraction\n",
    "addition = array1 + array2\n",
    "subtraction = array1 - array2\n",
    "\n",
    "# Print the results\n",
    "print(\"Element-wise addition:\\n\", addition)\n",
    "print(\"Element-wise subtraction:\\n\", subtraction)\n"
   ]
  },
  {
   "cell_type": "code",
   "execution_count": 27,
   "id": "8455ce46",
   "metadata": {},
   "outputs": [
    {
     "name": "stdout",
     "output_type": "stream",
     "text": [
      "Elements at even indices: [ 2  6 10]\n"
     ]
    }
   ],
   "source": [
    "'''create an array [2,4,6,8,10] and print the elements at evene indices.'''\n",
    "\n",
    "# Create an array with elements from 2 to 10\n",
    "arr = np.arange(2, 11, 2)\n",
    "\n",
    "# Print elements at even indices (0, 2, 4)\n",
    "print(\"Elements at even indices:\", arr[::2])\n"
   ]
  },
  {
   "cell_type": "code",
   "execution_count": 28,
   "id": "ebdb9c3e",
   "metadata": {},
   "outputs": [
    {
     "name": "stdout",
     "output_type": "stream",
     "text": [
      "Sum of all elements: 45\n"
     ]
    }
   ],
   "source": [
    "''' Calculate the sum of all the elements in a 2D array.'''\n",
    "\n",
    "# Create a 2D array\n",
    "arr = np.array([[1, 2, 3], [4, 5, 6], [7, 8, 9]])\n",
    "\n",
    "# Calculate the sum of all elements\n",
    "sum_of_elements = np.sum(arr)\n",
    "\n",
    "# Print the sum\n",
    "print(\"Sum of all elements:\", sum_of_elements)\n"
   ]
  },
  {
   "cell_type": "code",
   "execution_count": 29,
   "id": "2ca8d314",
   "metadata": {},
   "outputs": [
    {
     "name": "stdout",
     "output_type": "stream",
     "text": [
      "Reshaped array:\n",
      " [[1 2 3]\n",
      " [4 5 6]]\n",
      "Transposed array:\n",
      " [[1 4]\n",
      " [2 5]\n",
      " [3 6]]\n"
     ]
    }
   ],
   "source": [
    "'''.Create a 1D array and reshape the array into 2D array with shape(2,3) .\n",
    "Transpose a 2D array'''\n",
    "\n",
    "# Create a 1D array\n",
    "arr = np.arange(1, 7)  # Elements from 1 to 6\n",
    "\n",
    "# Reshape the array into 2D with shape (2, 3)\n",
    "reshaped_arr = arr.reshape(2, 3)\n",
    "\n",
    "# Print the reshaped array\n",
    "print(\"Reshaped array:\\n\", reshaped_arr)\n",
    "\n",
    "# Transpose the 2D array\n",
    "transposed_arr = reshaped_arr.T\n",
    "\n",
    "# Print the transposed array\n",
    "print(\"Transposed array:\\n\", transposed_arr)\n"
   ]
  },
  {
   "cell_type": "code",
   "execution_count": 30,
   "id": "ed6d718c",
   "metadata": {},
   "outputs": [
    {
     "name": "stdout",
     "output_type": "stream",
     "text": [
      "Random integers:\n",
      " [ 2  6  4  1 10  9  5  7  4 10]\n",
      "Random floats:\n",
      " [0.16473834 0.25900437 0.84179093 0.62859767 0.13137724 0.73355081\n",
      " 0.03114332 0.59166415 0.1994907  0.73623015]\n",
      "Rounded integers:\n",
      " [0. 0. 1. 1. 0. 1. 0. 1. 0. 1.]\n"
     ]
    }
   ],
   "source": [
    "''' Generate a random array of integers between 1 to 10. create an array of random floats\n",
    "and round them off to the nearest integer.'''\n",
    "\n",
    "# Generate a random array of integers between 1 and 10\n",
    "random_integers = np.random.randint(1, 11, size=10)  # Generate 10 random integers\n",
    "\n",
    "# Create an array of random floats\n",
    "random_floats = np.random.rand(10)  # Generate 10 random floats between 0 and 1\n",
    "\n",
    "# Round the floats to the nearest integer\n",
    "rounded_integers = np.round(random_floats)\n",
    "\n",
    "# Print the arrays\n",
    "print(\"Random integers:\\n\", random_integers)\n",
    "print(\"Random floats:\\n\", random_floats)\n",
    "print(\"Rounded integers:\\n\", rounded_integers)\n"
   ]
  },
  {
   "cell_type": "code",
   "execution_count": 31,
   "id": "9642a4fd",
   "metadata": {},
   "outputs": [
    {
     "name": "stdout",
     "output_type": "stream",
     "text": [
      "Original numbers: [ 1  4  9 16 25]\n",
      "Result of custom operation: [1.64872127e+00 7.38905610e+00 9.00171313e+01 2.98095799e+03\n",
      " 2.68337287e+05]\n"
     ]
    }
   ],
   "source": [
    "'''Create an array of numbers and apply custom mathematical operations as square root exponential.'''\n",
    "\n",
    "def custom_operation(x):\n",
    "  \"\"\"\n",
    "  This function performs the custom mathematical operation of square root exponential.\n",
    "  Args:\n",
    "    x: A numerical value.\n",
    "  Returns:\n",
    "    The square root of the exponential of x.\n",
    "  \"\"\"\n",
    "  return np.sqrt(np.exp(x))\n",
    "\n",
    "# Create an array of numbers\n",
    "numbers = np.array([1, 4, 9, 16, 25])\n",
    "\n",
    "# Apply the custom operation\n",
    "result = custom_operation(numbers)\n",
    "\n",
    "# Print the results\n",
    "print(\"Original numbers:\", numbers)\n",
    "print(\"Result of custom operation:\", result)\n"
   ]
  },
  {
   "cell_type": "code",
   "execution_count": 32,
   "id": "2d85b318",
   "metadata": {},
   "outputs": [
    {
     "name": "stdout",
     "output_type": "stream",
     "text": [
      "Solution: [1.4 2.2]\n"
     ]
    }
   ],
   "source": [
    "'''Solve a system of linear equation using numpy functions.'''\n",
    "\n",
    "# Define the system of equations with coefficients matrix A and constants vector b\n",
    "A = np.array([[2, 1], [1, 3]])\n",
    "b = np.array([5, 8])\n",
    "\n",
    "# Solve the system using the np.linalg.solve function\n",
    "solution = np.linalg.solve(A, b)\n",
    "\n",
    "# Print the solution vector\n",
    "print(\"Solution:\", solution)\n"
   ]
  },
  {
   "cell_type": "code",
   "execution_count": 2,
   "id": "331b7cbd",
   "metadata": {},
   "outputs": [
    {
     "name": "stdout",
     "output_type": "stream",
     "text": [
      "[10. 10. 10. 10. 10.]\n"
     ]
    }
   ],
   "source": [
    "'''Write a user defined python function to create an array of size 5 and also take an \n",
    "integer value saperately.'''\n",
    "\n",
    "import numpy as np\n",
    "\n",
    "def create_and_fill_array(size, value):\n",
    " \"\"\"\n",
    " This function creates a NumPy array of a given size and fills it with a specified value.\n",
    "\n",
    " Args:\n",
    "   size: The desired size of the array.\n",
    "   value: The value to fill the array with.\n",
    "\n",
    " Returns:\n",
    "   A NumPy array of the specified size filled with the given value.\n",
    " \"\"\"\n",
    "\n",
    " # Create the array\n",
    " array = np.zeros(size)\n",
    "\n",
    " # Fill the array with the value\n",
    " array[:] = value\n",
    "\n",
    " return array\n",
    "\n",
    "# Example usage\n",
    "array = create_and_fill_array(5, 10)\n",
    "print(array)  # Output: [10 10 10 10 10]\n"
   ]
  },
  {
   "cell_type": "code",
   "execution_count": 3,
   "id": "737dc5a9",
   "metadata": {},
   "outputs": [
    {
     "name": "stdout",
     "output_type": "stream",
     "text": [
      "Occurrences of 2 : 2\n"
     ]
    }
   ],
   "source": [
    "'''Write a user defined python function to create an array of size 5 and also\n",
    "take an integer value saperately to find out the occurance of elements'''\n",
    "\n",
    "import numpy as np\n",
    "\n",
    "def find_element_occurrences(array, value):\n",
    "  \"\"\"\n",
    "  This function takes a NumPy array and returns a dictionary containing the occurrences of each element.\n",
    "\n",
    "  Args:\n",
    "    array: A NumPy array.\n",
    "    value: The integer value to find the occurrence of.\n",
    "\n",
    "  Returns:\n",
    "    A dictionary where the keys are the unique elements in the array and the values are their respective occurrences.\n",
    "  \"\"\"\n",
    "\n",
    "  # Create an empty dictionary to store the occurrences\n",
    "  occurrences = {}\n",
    "\n",
    "  # Iterate through each element in the array\n",
    "  for element in array:\n",
    "    # Check if the element is already in the dictionary\n",
    "    if element in occurrences:\n",
    "      # Increment the occurrence count\n",
    "      occurrences[element] += 1\n",
    "    else:\n",
    "      # Add the element to the dictionary with an occurrence count of 1\n",
    "      occurrences[element] = 1\n",
    "\n",
    "  # Return the occurrences of the specified value\n",
    "  return occurrences.get(value, 0)  # Return 0 if the value is not found\n",
    "\n",
    "# Example usage\n",
    "array = np.array([1, 2, 2, 3, 1])\n",
    "value_to_find = 2\n",
    "occurrences = find_element_occurrences(array, value_to_find)\n",
    "print(\"Occurrences of\", value_to_find, \":\", occurrences)  # Output: Occurrences of 2 : 2\n"
   ]
  },
  {
   "cell_type": "code",
   "execution_count": 4,
   "id": "989ae020",
   "metadata": {},
   "outputs": [
    {
     "name": "stdout",
     "output_type": "stream",
     "text": [
      "Is 3 present in the array using 'in' operator: True\n",
      "Is 3 present in the array using 'any' method: True\n"
     ]
    }
   ],
   "source": [
    "''' Write a user defined python function to create an array of size 5 and \n",
    "find a given number is present in the array or not.'''\n",
    "import numpy as np\n",
    "\n",
    "def is_element_present(array, value):\n",
    "  \"\"\"\n",
    "  This function checks if a given value is present in a NumPy array using two methods.\n",
    "\n",
    "  Args:\n",
    "    array: A NumPy array.\n",
    "    value: The integer value to search for.\n",
    "\n",
    "  Returns:\n",
    "    A tuple containing two booleans:\n",
    "      - `in_operator`: True if the value is present using the \"in\" operator.\n",
    "      - `any_method`: True if the value is present using the \"any\" method.\n",
    "  \"\"\"\n",
    "\n",
    "  # Method 1: Using the \"in\" operator\n",
    "  in_operator = value in array\n",
    "\n",
    "  # Method 2: Using the \"any\" method\n",
    "  any_method = np.any(array == value)\n",
    "\n",
    "  return in_operator, any_method\n",
    "\n",
    "# Example usage\n",
    "array = np.array([1, 2, 3, 4, 5])\n",
    "value_to_find = 3\n",
    "present, present_any = is_element_present(array, value_to_find)\n",
    "print(\"Is\", value_to_find, \"present in the array using 'in' operator:\", present)\n",
    "print(\"Is\", value_to_find, \"present in the array using 'any' method:\", present_any)\n"
   ]
  },
  {
   "cell_type": "code",
   "execution_count": 5,
   "id": "48798b0b",
   "metadata": {},
   "outputs": [
    {
     "name": "stdout",
     "output_type": "stream",
     "text": [
      "[3 4 5 1 2]\n"
     ]
    }
   ],
   "source": [
    "'''write a user defined python function to split an array and add the first part of the end.'''\n",
    "\n",
    "import numpy as np\n",
    "\n",
    "def split_and_add_first_to_end(array):\n",
    "  \"\"\"\n",
    "  Splits an array into two parts and adds the first part to the end.\n",
    "\n",
    "  Args:\n",
    "      array: A NumPy array.\n",
    "\n",
    "  Returns:\n",
    "      A NumPy array with the first part added to the end.\n",
    "\n",
    "  Raises:\n",
    "      ValueError: If the input array is empty.\n",
    "  \"\"\"\n",
    "\n",
    "  if len(array) == 0:\n",
    "      raise ValueError(\"Input array cannot be empty.\")\n",
    "\n",
    "  # Split the array at its midpoint\n",
    "  split_point = len(array) // 2\n",
    "  first_part = array[:split_point]\n",
    "  second_part = array[split_point:]\n",
    "\n",
    "  # Combine the second part and the first part to form the modified array\n",
    "  modified_array = np.concatenate((second_part, first_part))\n",
    "\n",
    "  return modified_array\n",
    "\n",
    "# Example usage\n",
    "array = np.array([1, 2, 3, 4, 5])\n",
    "modified_array = split_and_add_first_to_end(array)\n",
    "print(modified_array)  # Output: [3 4 5 1 2]\n"
   ]
  },
  {
   "cell_type": "code",
   "execution_count": 6,
   "id": "683ed745",
   "metadata": {},
   "outputs": [
    {
     "name": "stdout",
     "output_type": "stream",
     "text": [
      "Largest element: 7\n"
     ]
    }
   ],
   "source": [
    "'''Write a python function to find out the largest element in a given integers.'''\n",
    "\n",
    "import numpy as np\n",
    "\n",
    "def find_largest_element(array):\n",
    "  \"\"\"\n",
    "  This function finds the largest element in a NumPy array of integers.\n",
    "\n",
    "  Args:\n",
    "    array: A NumPy array of integers.\n",
    "\n",
    "  Returns:\n",
    "    The largest element in the array.\n",
    "\n",
    "  Raises:\n",
    "    ValueError: If the input array is empty.\n",
    "  \"\"\"\n",
    "\n",
    "  if len(array) == 0:\n",
    "      raise ValueError(\"Input array cannot be empty.\")\n",
    "\n",
    "  # Use np.max to efficiently find the largest element\n",
    "  largest_element = np.max(array)\n",
    "\n",
    "  return largest_element\n",
    "\n",
    "# Example usage\n",
    "array = np.array([3, 5, 1, 7, 2])\n",
    "largest = find_largest_element(array)\n",
    "print(\"Largest element:\", largest)  # Output: Largest element: 7\n"
   ]
  },
  {
   "cell_type": "code",
   "execution_count": 7,
   "id": "a0ff14d1",
   "metadata": {},
   "outputs": [
    {
     "name": "stdout",
     "output_type": "stream",
     "text": [
      "Sum matrix:\n",
      " [[ 6  8]\n",
      " [10 12]]\n",
      "Difference matrix:\n",
      " [[-4 -4]\n",
      " [-4 -4]]\n",
      "Product matrix:\n",
      " [[19 22]\n",
      " [43 50]]\n"
     ]
    }
   ],
   "source": [
    "''' Write a user defined function to create two matrices and dimensions r1*c1 and r2*c2 and\n",
    "add,substract and multiply them.'''\n",
    "\n",
    "import numpy as np\n",
    "\n",
    "def matrix_operations(matrix1, matrix2):\n",
    "  \"\"\"\n",
    "  Performs addition, subtraction, and multiplication on two NumPy matrices.\n",
    "\n",
    "  Args:\n",
    "    matrix1: A NumPy matrix with dimensions r1*c1.\n",
    "    matrix2: A NumPy matrix with dimensions r2*c2.\n",
    "\n",
    "  Returns:\n",
    "    A tuple containing three NumPy matrices:\n",
    "      - sum_matrix: The sum of matrix1 and matrix2.\n",
    "      - difference_matrix: The difference of matrix1 and matrix2.\n",
    "      - product_matrix: The product of matrix1 and matrix2 (if possible).\n",
    "\n",
    "  Raises:\n",
    "    ValueError: If the dimensions of the matrices are not compatible for the operation.\n",
    "  \"\"\"\n",
    "\n",
    "  # Check if dimensions are compatible for addition and subtraction\n",
    "  if matrix1.shape != matrix2.shape:\n",
    "    raise ValueError(\"Matrices must have the same dimensions for addition and subtraction.\")\n",
    "\n",
    "  # Check if dimensions are compatible for multiplication\n",
    "  if matrix1.shape[1] != matrix2.shape[0]:\n",
    "    raise ValueError(\"Inner dimensions must be equal for matrix multiplication.\")\n",
    "\n",
    "  # Perform addition\n",
    "  sum_matrix = matrix1 + matrix2\n",
    "\n",
    "  # Perform subtraction\n",
    "  difference_matrix = matrix1 - matrix2\n",
    "\n",
    "  # Perform multiplication\n",
    "  product_matrix = np.matmul(matrix1, matrix2)\n",
    "\n",
    "  return sum_matrix, difference_matrix, product_matrix\n",
    "\n",
    "# Example usage\n",
    "matrix1 = np.array([[1, 2], [3, 4]])\n",
    "matrix2 = np.array([[5, 6], [7, 8]])\n",
    "\n",
    "sum_matrix, difference_matrix, product_matrix = matrix_operations(matrix1, matrix2)\n",
    "\n",
    "print(\"Sum matrix:\\n\", sum_matrix)\n",
    "print(\"Difference matrix:\\n\", difference_matrix)\n",
    "print(\"Product matrix:\\n\", product_matrix)\n"
   ]
  },
  {
   "cell_type": "code",
   "execution_count": null,
   "id": "11d56095",
   "metadata": {},
   "outputs": [],
   "source": []
  }
 ],
 "metadata": {
  "kernelspec": {
   "display_name": "Python 3 (ipykernel)",
   "language": "python",
   "name": "python3"
  },
  "language_info": {
   "codemirror_mode": {
    "name": "ipython",
    "version": 3
   },
   "file_extension": ".py",
   "mimetype": "text/x-python",
   "name": "python",
   "nbconvert_exporter": "python",
   "pygments_lexer": "ipython3",
   "version": "3.11.5"
  }
 },
 "nbformat": 4,
 "nbformat_minor": 5
}
