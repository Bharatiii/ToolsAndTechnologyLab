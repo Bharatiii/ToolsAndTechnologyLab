{
 "cells": [
  {
   "cell_type": "code",
   "execution_count": 2,
   "id": "fdf23ee5",
   "metadata": {
    "scrolled": true
   },
   "outputs": [
    {
     "name": "stdout",
     "output_type": "stream",
     "text": [
      "Enter a list of elements separated by spaces: a b c d e\n",
      "Original List: ['a', 'b', 'c', 'd', 'e']\n",
      "Unique Elements: ['b', 'e', 'd', 'a', 'c']\n"
     ]
    }
   ],
   "source": [
    "#create a function that takes a list as input and return a new list containing only the unique\n",
    "#elements.allow the user to input a list,call the function and display the result\n",
    "def get_unique_elements(input_list):\n",
    "    # Use set to store unique elements\n",
    "    unique_elements_set = set(input_list)\n",
    "    \n",
    "    # Convert set back to list\n",
    "    unique_elements_list = list(unique_elements_set)\n",
    "    \n",
    "    return unique_elements_list\n",
    "\n",
    "# Take input from the user\n",
    "user_input = input(\"Enter a list of elements separated by spaces: \")\n",
    "\n",
    "# Split the input string into a list of elements\n",
    "input_list = user_input.split()\n",
    "\n",
    "# Call the function to get unique elements\n",
    "result_list = get_unique_elements(input_list)\n",
    "\n",
    "# Display the result\n",
    "print(\"Original List:\", input_list)\n",
    "print(\"Unique Elements:\", result_list)\n"
   ]
  },
  {
   "cell_type": "code",
   "execution_count": 7,
   "id": "da953ae3",
   "metadata": {},
   "outputs": [
    {
     "name": "stdout",
     "output_type": "stream",
     "text": [
      "Enter a list of numbers separated by spaces: 1 2 3 4 5 6 7\n",
      "Original List: [1, 2, 3, 4, 5, 6, 7]\n",
      "Sorted Descending List: [7, 6, 5, 4, 3, 2, 1]\n"
     ]
    }
   ],
   "source": [
    "#.use the sort function along with lamda and provide me a list having all the elements in\n",
    "#descending order.Take a list of numbers from the user\n",
    "user_input = input(\"Enter a list of numbers separated by spaces: \")\n",
    "input_list = list(map(int, user_input.split()))\n",
    "\n",
    "# Use the sorted function with a lambda function to sort in descending order\n",
    "sorted_descending = sorted(input_list, key=lambda x: x, reverse=True)\n",
    "\n",
    "# Display the original and sorted lists\n",
    "print(\"Original List:\", input_list)\n",
    "print(\"Sorted Descending List:\", sorted_descending)\n"
   ]
  },
  {
   "cell_type": "code",
   "execution_count": 8,
   "id": "57324a12",
   "metadata": {},
   "outputs": [
    {
     "name": "stdout",
     "output_type": "stream",
     "text": [
      "Enter a list of elements separated by spaces: 1 2 3 4 5 6 7 8\n",
      "Original List: [1, 2, 3, 4, 5, 6, 7, 8]\n",
      "Odd Elements: [1, 3, 5, 7]\n"
     ]
    }
   ],
   "source": [
    "#take a list of elements and then use the filter function to find out the odd elements from\n",
    "#the list.\n",
    "# Take a list of elements from the user\n",
    "user_input = input(\"Enter a list of elements separated by spaces: \")\n",
    "input_list = list(map(int, user_input.split()))\n",
    "\n",
    "# Use the filter function to find odd elements\n",
    "odd_elements = list(filter(lambda x: x % 2 != 0, input_list))\n",
    "\n",
    "# Display the original and odd elements\n",
    "print(\"Original List:\", input_list)\n",
    "print(\"Odd Elements:\", odd_elements)\n"
   ]
  },
  {
   "cell_type": "code",
   "execution_count": 9,
   "id": "e8cd581b",
   "metadata": {},
   "outputs": [
    {
     "name": "stdout",
     "output_type": "stream",
     "text": [
      "Enter a list of numbers separated by spaces: 1 2 34 5 66 7\n",
      "Original List: [1, 2, 34, 5, 66, 7]\n",
      "Squared List: [1, 4, 1156, 25, 4356, 49]\n"
     ]
    }
   ],
   "source": [
    "#use the map function along with lamda function and provide me a list having all the elements\n",
    "#equared.\n",
    "\n",
    "\n",
    "# Take a list of numbers from the user\n",
    "user_input = input(\"Enter a list of numbers separated by spaces: \")\n",
    "input_list = list(map(int, user_input.split()))\n",
    "\n",
    "# Use the map function with a lambda function to square each element\n",
    "squared_list = list(map(lambda x: x**2, input_list))\n",
    "\n",
    "# Display the original and squared lists\n",
    "print(\"Original List:\", input_list)\n",
    "print(\"Squared List:\", squared_list)\n"
   ]
  },
  {
   "cell_type": "code",
   "execution_count": 10,
   "id": "8553c80b",
   "metadata": {},
   "outputs": [
    {
     "name": "stdout",
     "output_type": "stream",
     "text": [
      "Books in the Library:\n",
      "Title: The Catcher in the Rye, Author: J.D. Salinger, Published Year: 1951\n",
      "Title: To Kill a Mockingbird, Author: Harper Lee, Published Year: 1960\n",
      "Title: 1984, Author: George Orwell, Published Year: 1949\n"
     ]
    }
   ],
   "source": [
    "'''create a python class named \"book' along with the following attributes. title(string), \n",
    "author(string), published yeara(integer). now implement a method\"display_info\" in the book class\n",
    "that prints out the information about the book in a formatted way.now create another class \n",
    "that can hold on another books. the library class should have init function,display book function \n",
    "and add book function , init (self), add_book(self,book), book(self)'''\n",
    "\n",
    "\n",
    "class Book:\n",
    "    def __init__(self, title, author, published_year):\n",
    "        self.title = title\n",
    "        self.author = author\n",
    "        self.published_year = published_year\n",
    "\n",
    "    def display_info(self):\n",
    "        print(f\"Title: {self.title}, Author: {self.author}, Published Year: {self.published_year}\")\n",
    "\n",
    "\n",
    "class Library:\n",
    "    def __init__(self):\n",
    "        self.books = []\n",
    "\n",
    "    def add_book(self, book):\n",
    "        self.books.append(book)\n",
    "\n",
    "    def display_books(self):\n",
    "        print(\"Books in the Library:\")\n",
    "        for book in self.books:\n",
    "            book.display_info()\n",
    "\n",
    "\n",
    "# Example usage:\n",
    "\n",
    "# Create instances of the Book class\n",
    "book1 = Book(\"The Catcher in the Rye\", \"J.D. Salinger\", 1951)\n",
    "book2 = Book(\"To Kill a Mockingbird\", \"Harper Lee\", 1960)\n",
    "book3 = Book(\"1984\", \"George Orwell\", 1949)\n",
    "\n",
    "# Create an instance of the Library class\n",
    "library = Library()\n",
    "\n",
    "# Add books to the library\n",
    "library.add_book(book1)\n",
    "library.add_book(book2)\n",
    "library.add_book(book3)\n",
    "\n",
    "# Display information about all the books in the library\n",
    "library.display_books()\n",
    "\n"
   ]
  },
  {
   "cell_type": "code",
   "execution_count": 11,
   "id": "c26cc331",
   "metadata": {},
   "outputs": [
    {
     "name": "stdout",
     "output_type": "stream",
     "text": [
      "Enter a list of numbers separated by spaces: 1 2 3 4 5\n",
      "Sum: 15.0\n",
      "Average: 3.0\n",
      "Maximum: 5.0\n"
     ]
    }
   ],
   "source": [
    "'''write a function to find out the sum,average,and the maximum elements in the list of numbers.\n",
    "allow the users to input a list, call these function and print the result.'''\n",
    "\n",
    "def calculate_statistics(numbers):\n",
    "    # Check if the list is not empty\n",
    "    if not numbers:\n",
    "        return None, None, None\n",
    "\n",
    "    # Calculate sum, average, and maximum\n",
    "    total_sum = sum(numbers)\n",
    "    average = total_sum / len(numbers)\n",
    "    maximum = max(numbers)\n",
    "\n",
    "    return total_sum, average, maximum\n",
    "\n",
    "# Take a list of numbers from the user\n",
    "user_input = input(\"Enter a list of numbers separated by spaces: \")\n",
    "input_numbers = list(map(float, user_input.split()))\n",
    "\n",
    "# Call the function to calculate sum, average, and maximum\n",
    "sum_result, average_result, max_result = calculate_statistics(input_numbers)\n",
    "\n",
    "# Display the results\n",
    "print(\"Sum:\", sum_result)\n",
    "print(\"Average:\", average_result)\n",
    "print(\"Maximum:\", max_result)\n"
   ]
  },
  {
   "cell_type": "code",
   "execution_count": 16,
   "id": "b6ae7c61",
   "metadata": {},
   "outputs": [
    {
     "name": "stdout",
     "output_type": "stream",
     "text": [
      "Enter a list of grades separated by spaces: 44 56 78 97 90 71\n",
      "Average Grades: 72.66666666666667\n"
     ]
    }
   ],
   "source": [
    "'''write a program that calculate the average grades on input grades.implement a function that \n",
    "takes a list of grades as input grades and return average. allow the user to input grades,\n",
    "call the function and display average.'''\n",
    "\n",
    "def calculate_average_grades(grades):\n",
    "    # Check if the list is not empty\n",
    "    if not grades:\n",
    "        return None\n",
    "\n",
    "    # Calculate average\n",
    "    average = sum(grades) / len(grades)\n",
    "    return average\n",
    "\n",
    "# Take a list of grades from the user\n",
    "user_input = input(\"Enter a list of grades separated by spaces: \")\n",
    "grades_list = list(map(float, user_input.split()))\n",
    "\n",
    "# Call the function to calculate average grades\n",
    "average_grades = calculate_average_grades(grades_list)\n",
    "\n",
    "# Display the result\n",
    "if average_grades is not None:\n",
    "    print(\"Average Grades:\", average_grades)\n",
    "else:\n",
    "    print(\"No grades provided. Please enter at least one grade.\")\n"
   ]
  },
  {
   "cell_type": "code",
   "execution_count": null,
   "id": "751e9197",
   "metadata": {},
   "outputs": [],
   "source": []
  }
 ],
 "metadata": {
  "kernelspec": {
   "display_name": "Python 3 (ipykernel)",
   "language": "python",
   "name": "python3"
  },
  "language_info": {
   "codemirror_mode": {
    "name": "ipython",
    "version": 3
   },
   "file_extension": ".py",
   "mimetype": "text/x-python",
   "name": "python",
   "nbconvert_exporter": "python",
   "pygments_lexer": "ipython3",
   "version": "3.11.5"
  }
 },
 "nbformat": 4,
 "nbformat_minor": 5
}
