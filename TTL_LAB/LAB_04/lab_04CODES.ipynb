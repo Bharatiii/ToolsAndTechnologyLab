{
 "cells": [
  {
   "cell_type": "code",
   "execution_count": 1,
   "id": "6dc03e21",
   "metadata": {},
   "outputs": [
    {
     "name": "stdout",
     "output_type": "stream",
     "text": [
      "Original List: [1, 2, 3, 4, 5]\n",
      "List after adding 6: [1, 2, 3, 4, 5, 6]\n",
      "List after removing 3: [1, 2, 4, 5, 6]\n",
      "List after removing element at index 1: [1, 4, 5, 6]\n",
      "Element at index 2: 5\n"
     ]
    }
   ],
   "source": [
    "'''create a list of numbers and perform various operations adding elements,\n",
    "substracting elements,removing elements and accessing elements by index.'''\n",
    "\n",
    "# Create a list of numbers\n",
    "numbers = [1, 2, 3, 4, 5]\n",
    "\n",
    "# Display the original list\n",
    "print(\"Original List:\", numbers)\n",
    "\n",
    "# Adding elements\n",
    "numbers.append(6)\n",
    "print(\"List after adding 6:\", numbers)\n",
    "\n",
    "# Subtracting elements\n",
    "numbers.remove(3)\n",
    "print(\"List after removing 3:\", numbers)\n",
    "\n",
    "# Removing elements\n",
    "numbers.pop(1)\n",
    "print(\"List after removing element at index 1:\", numbers)\n",
    "\n",
    "# Accessing elements by index\n",
    "index = 2\n",
    "element_at_index = numbers[index]\n",
    "print(f\"Element at index {index}: {element_at_index}\")\n"
   ]
  },
  {
   "cell_type": "code",
   "execution_count": 7,
   "id": "4d256211",
   "metadata": {},
   "outputs": [
    {
     "name": "stdout",
     "output_type": "stream",
     "text": [
      "Original Tuple: (1, 2, 3, 4, 5)\n",
      "First Element: 1\n",
      "Second Element: 2\n",
      "Tuple Length: 5\n",
      "Tuple Sum: 15\n",
      "Tuple Product: 120\n"
     ]
    }
   ],
   "source": [
    "'''Create a tuple to represent a immutable collection and try to access elements and\n",
    "performing basic operation.'''\n",
    "\n",
    "# Creating a tuple\n",
    "my_tuple = (1, 2, 3, 4, 5)\n",
    "\n",
    "# Accessing elements\n",
    "first_element = my_tuple[0]\n",
    "second_element = my_tuple[1]\n",
    "\n",
    "# Performing basic operations\n",
    "tuple_length = len(my_tuple)\n",
    "tuple_sum = sum(my_tuple)\n",
    "tuple_product = 1\n",
    "for element in my_tuple:\n",
    "    tuple_product *= element\n",
    "\n",
    "\n",
    "# Displaying results\n",
    "print(\"Original Tuple:\", my_tuple)\n",
    "print(\"First Element:\", first_element)\n",
    "print(\"Second Element:\", second_element)\n",
    "print(\"Tuple Length:\", tuple_length)\n",
    "print(\"Tuple Sum:\", tuple_sum)\n",
    "print(\"Tuple Product:\", tuple_product)\n"
   ]
  },
  {
   "cell_type": "code",
   "execution_count": 3,
   "id": "6b0c5bd0",
   "metadata": {},
   "outputs": [
    {
     "name": "stdout",
     "output_type": "stream",
     "text": [
      "Set 1: {1, 2, 3, 4, 5}\n",
      "Set 2: {3, 4, 5, 6, 7}\n",
      "Union Set: {1, 2, 3, 4, 5, 6, 7}\n",
      "Intersection Set: {3, 4, 5}\n",
      "Difference (Set 1 - Set 2): {1, 2}\n",
      "Difference (Set 2 - Set 1): {6, 7}\n",
      "Symmetric Difference: {1, 2, 6, 7}\n"
     ]
    }
   ],
   "source": [
    "'''Create a set to store the unique elemnts and perform set operations like union ,\n",
    "intersection and difference.'''\n",
    "\n",
    "# Creating two sets\n",
    "set1 = {1, 2, 3, 4, 5}\n",
    "set2 = {3, 4, 5, 6, 7}\n",
    "\n",
    "# Performing set operations\n",
    "union_set = set1.union(set2)\n",
    "intersection_set = set1.intersection(set2)\n",
    "difference_set1_minus_2 = set1.difference(set2)\n",
    "difference_set2_minus_1 = set2.difference(set1)\n",
    "symmetric_difference_set = set1.symmetric_difference(set2)\n",
    "\n",
    "# Displaying results\n",
    "print(\"Set 1:\", set1)\n",
    "print(\"Set 2:\", set2)\n",
    "print(\"Union Set:\", union_set)\n",
    "print(\"Intersection Set:\", intersection_set)\n",
    "print(\"Difference (Set 1 - Set 2):\", difference_set1_minus_2)\n",
    "print(\"Difference (Set 2 - Set 1):\", difference_set2_minus_1)\n",
    "print(\"Symmetric Difference:\", symmetric_difference_set)\n"
   ]
  },
  {
   "cell_type": "code",
   "execution_count": 4,
   "id": "7c8fc66b",
   "metadata": {},
   "outputs": [
    {
     "name": "stdout",
     "output_type": "stream",
     "text": [
      "Initial Dictionary: {'name': 'John', 'age': 25, 'city': 'New York'}\n",
      "Name: John\n",
      "Age: 25\n",
      "City: New York\n",
      "\n",
      "Updated Dictionary: {'name': 'John', 'age': 26, 'city': 'New York', 'occupation': 'Engineer'}\n",
      "Updated Age: 26\n",
      "Occupation: Engineer\n"
     ]
    }
   ],
   "source": [
    "'''Create a directory to represent key value pairs and perform operation like adding ,\n",
    "updating,and accessing elements. '''\n",
    "\n",
    "# Creating a dictionary\n",
    "my_dict = {'name': 'John', 'age': 25, 'city': 'New York'}\n",
    "\n",
    "# Accessing elements\n",
    "name_value = my_dict['name']\n",
    "age_value = my_dict['age']\n",
    "city_value = my_dict['city']\n",
    "\n",
    "# Displaying initial dictionary\n",
    "print(\"Initial Dictionary:\", my_dict)\n",
    "print(\"Name:\", name_value)\n",
    "print(\"Age:\", age_value)\n",
    "print(\"City:\", city_value)\n",
    "\n",
    "# Adding a new key-value pair\n",
    "my_dict['occupation'] = 'Engineer'\n",
    "\n",
    "# Updating an existing value\n",
    "my_dict['age'] = 26\n",
    "\n",
    "# Displaying updated dictionary\n",
    "print(\"\\nUpdated Dictionary:\", my_dict)\n",
    "\n",
    "# Accessing the updated values\n",
    "updated_age_value = my_dict['age']\n",
    "occupation_value = my_dict['occupation']\n",
    "\n",
    "print(\"Updated Age:\", updated_age_value)\n",
    "print(\"Occupation:\", occupation_value)\n"
   ]
  },
  {
   "cell_type": "code",
   "execution_count": 1,
   "id": "f7423646",
   "metadata": {},
   "outputs": [
    {
     "name": "stdout",
     "output_type": "stream",
     "text": [
      "Enter a day of the week: monday\n",
      "monday is a weekday.\n"
     ]
    }
   ],
   "source": [
    "'''Create a tuple with the names of the weekdays, allow the user to enter a day of the weekdays. check if the entered day is a weekkend and print a \n",
    "corresponding message.'''\n",
    "\n",
    "# Create a tuple with the names of the weekdays\n",
    "weekdays = ('Monday', 'Tuesday', 'Wednesday', 'Thursday', 'Friday', 'Saturday', 'Sunday')\n",
    "\n",
    "# Allow the user to enter a day of the weekdays\n",
    "user_input = input(\"Enter a day of the week: \")\n",
    "\n",
    "# Check if the entered day is a weekend and print a corresponding message\n",
    "if user_input.capitalize() in ('Saturday', 'Sunday'):\n",
    "    print(f\"{user_input} is a weekend day!\")\n",
    "else:\n",
    "    print(f\"{user_input} is a weekday.\")"
   ]
  },
  {
   "cell_type": "code",
   "execution_count": 2,
   "id": "f05eaca6",
   "metadata": {},
   "outputs": [
    {
     "name": "stdout",
     "output_type": "stream",
     "text": [
      "Students enrolled in both courses: {'Charlie'}\n",
      "Updated students in Course 1: {'Alice', 'David', 'Jack', 'Bob', 'Ivy', 'Charlie'}\n",
      "Students in Course 2: {'Eve', 'Frank', 'Grace', 'Charlie'}\n",
      "Charlie has dropped out.\n",
      "Updated students in Course 1: {'Alice', 'David', 'Jack', 'Bob', 'Ivy'}\n",
      "Updated students in Course 2: {'Eve', 'Frank', 'Grace'}\n"
     ]
    }
   ],
   "source": [
    "'''develop a program to simulate a student enrollment system: create sets representing students enrolled in twoo courses, find and print \n",
    "students who are enrolled in both courses , add new students to one of the courses, remove a student from both courses if the decide to drop out.'''\n",
    "\n",
    "# Initial sets representing students enrolled in two courses\n",
    "course1_students = {'Alice', 'Bob', 'Charlie', 'David'}\n",
    "course2_students = {'Charlie', 'Eve', 'Frank', 'Grace'}\n",
    "\n",
    "# Find and print students who are enrolled in both courses\n",
    "common_students = course1_students.intersection(course2_students)\n",
    "print(\"Students enrolled in both courses:\", common_students)\n",
    "\n",
    "# Add new students to one of the courses\n",
    "new_students = {'Ivy', 'Jack'}\n",
    "course1_students.update(new_students)\n",
    "\n",
    "# Print updated sets after adding new students\n",
    "print(\"Updated students in Course 1:\", course1_students)\n",
    "print(\"Students in Course 2:\", course2_students)\n",
    "\n",
    "# Remove a student from both courses if they decide to drop out\n",
    "dropout_student = 'Charlie'\n",
    "course1_students.discard(dropout_student)\n",
    "course2_students.discard(dropout_student)\n",
    "\n",
    "# Print updated sets after removing a student\n",
    "print(f\"{dropout_student} has dropped out.\")\n",
    "print(\"Updated students in Course 1:\", course1_students)\n",
    "print(\"Updated students in Course 2:\", course2_students)"
   ]
  },
  {
   "cell_type": "code",
   "execution_count": 3,
   "id": "0f0adfab",
   "metadata": {},
   "outputs": [
    {
     "name": "stdout",
     "output_type": "stream",
     "text": [
      "['apple', 'banana', 'orange', 1, 2, 3]\n"
     ]
    }
   ],
   "source": [
    "'''create a program that combine both lists and tuples.'''\n",
    "list1 = [\"apple\", \"banana\", \"orange\"]\n",
    "tuple1 = (1, 2, 3)\n",
    "\n",
    "# Combine the list and tuple using extend() method\n",
    "combined_list = list1.copy()\n",
    "combined_list.extend(tuple1)\n",
    "\n",
    "# Print the combined list\n",
    "print(combined_list)"
   ]
  },
  {
   "cell_type": "code",
   "execution_count": 4,
   "id": "74a01cbf",
   "metadata": {},
   "outputs": [
    {
     "name": "stdout",
     "output_type": "stream",
     "text": [
      "('New York', 'Los Angeles', 'Chicago', 'Houston', 'Phoenix', 'San Antonio')\n"
     ]
    }
   ],
   "source": [
    "''' create a list of cities, convert the list into tuple, add a new city to the tuple and display \n",
    "the modified tuple.'''\n",
    "\n",
    "# Create a list of cities\n",
    "cities = [\"New York\", \"Los Angeles\", \"Chicago\", \"Houston\", \"Phoenix\"]\n",
    "\n",
    "# Convert the list into a tuple\n",
    "cities_tuple = tuple(cities)\n",
    "\n",
    "# Add a new city to the tuple\n",
    "new_city = \"San Antonio\"\n",
    "cities_tuple = cities_tuple + (new_city,)\n",
    "\n",
    "# Display the modified tuple\n",
    "print(cities_tuple)\n"
   ]
  },
  {
   "cell_type": "code",
   "execution_count": 5,
   "id": "501f2b95",
   "metadata": {},
   "outputs": [
    {
     "name": "stdout",
     "output_type": "stream",
     "text": [
      "Neither set is a subset of the other\n",
      "Symmetric difference: {'b', 'e', 'y', 'd', 'z', 'x'}\n",
      "The sets have elements in common\n"
     ]
    }
   ],
   "source": [
    "'''develop a program to perform set operation and comparison, create two sets of characterm check if one set is subset of another. , find and print the syymmetric differences\n",
    " of the sets. check if set have any elelments in common.'''\n",
    "\n",
    "# Create two sets of characters\n",
    "set1 = {'a', 'b', 'c', 'd', 'e'}\n",
    "set2 = {'x', 'y', 'z', 'a', 'c'}\n",
    "\n",
    "# Check if one set is a subset of the other\n",
    "if set1.issubset(set2):\n",
    "    print(\"Set1 is a subset of set2\")\n",
    "elif set2.issubset(set1):\n",
    "    print(\"Set2 is a subset of set1\")\n",
    "else:\n",
    "    print(\"Neither set is a subset of the other\")\n",
    "\n",
    "# Find the symmetric difference of the sets\n",
    "symmetric_difference = set1.symmetric_difference(set2)\n",
    "print(\"Symmetric difference:\", symmetric_difference)\n",
    "\n",
    "# Check if the sets have any elements in common\n",
    "if set1.intersection(set2):\n",
    "    print(\"The sets have elements in common\")\n",
    "else:\n",
    "    print(\"The sets have no elements in common\")\n"
   ]
  },
  {
   "cell_type": "code",
   "execution_count": 6,
   "id": "fa96aa8e",
   "metadata": {},
   "outputs": [
    {
     "name": "stdout",
     "output_type": "stream",
     "text": [
      "Book titles in alphabetical order:\n",
      "Hamlet\n",
      "Pride and Prejudice\n",
      "The Lord of the Rings\n",
      "To Kill a Mockingbird\n"
     ]
    }
   ],
   "source": [
    "'''create a dictionary where the keys are books,title and values the corresponding authors, add a new book to the dictionary, update the author of the existing\n",
    "book, display the book titles in alphabetical order.'''\n",
    "\n",
    "# Create a dictionary of books and authors\n",
    "books = {\"The Lord of the Rings\": \"J.R.R. Tolkien\", \"Pride and Prejudice\": \"Jane Austen\", \"Hamlet\": \"William Shakespeare\"}\n",
    "\n",
    "# Add a new book to the dictionary\n",
    "books[\"To Kill a Mockingbird\"] = \"Harper Lee\"\n",
    "\n",
    "# Update the author of an existing book\n",
    "books[\"Hamlet\"] = \"William Shakespeare (adapted by Kenneth Branagh)\"\n",
    "\n",
    "# Display the book titles in alphabetical order\n",
    "sorted_books = sorted(books.keys())\n",
    "print(\"Book titles in alphabetical order:\")\n",
    "for book in sorted_books:\n",
    "    print(book)\n"
   ]
  },
  {
   "cell_type": "code",
   "execution_count": 7,
   "id": "20ef7d81",
   "metadata": {},
   "outputs": [
    {
     "name": "stdout",
     "output_type": "stream",
     "text": [
      "List without duplicates: [1, 2, 3, 4, 5, 6]\n"
     ]
    }
   ],
   "source": [
    "'''create  a list  of integers  and write a program to remove  the duplicate elements from the list.'''\n",
    "\n",
    "# Create a list of integers with duplicates\n",
    "numbers = [1, 2, 3, 2, 4, 5, 1, 6]\n",
    "\n",
    "# Use set to remove duplicates and convert back to list\n",
    "unique_numbers = list(set(numbers))\n",
    "\n",
    "# Print the list without duplicates\n",
    "print(\"List without duplicates:\", unique_numbers)\n"
   ]
  },
  {
   "cell_type": "code",
   "execution_count": 9,
   "id": "550ffbdc",
   "metadata": {},
   "outputs": [
    {
     "name": "stdout",
     "output_type": "stream",
     "text": [
      "List in descending order: [6, 5, 4, 3, 2, 2, 1, 1]\n"
     ]
    }
   ],
   "source": [
    "'''Sort the list in descending order.'''\n",
    "\n",
    "# Create a list of integers with duplicates\n",
    "numbers = [1, 2, 3, 2, 4, 5, 1, 6]\n",
    "\n",
    "# Sort the list in descending order\n",
    "numbers.sort(reverse=True)\n",
    "\n",
    "# Print the sorted list\n",
    "print(\"List in descending order:\", numbers)\n"
   ]
  },
  {
   "cell_type": "code",
   "execution_count": 11,
   "id": "93380308",
   "metadata": {},
   "outputs": [
    {
     "name": "stdout",
     "output_type": "stream",
     "text": [
      "List in ascending order: [1, 1, 2, 2, 3, 4, 5, 6]\n"
     ]
    }
   ],
   "source": [
    "#practice-->sorting in ascending order\n",
    "\n",
    "# Create a list of integers with duplicates\n",
    "numbers = [1, 2, 3, 2, 4, 5, 1, 6]\n",
    "\n",
    "# Sort the list in descending order\n",
    "numbers.sort(reverse=False)\n",
    "\n",
    "# Print the sorted list\n",
    "print(\"List in ascending order:\", numbers)"
   ]
  },
  {
   "cell_type": "code",
   "execution_count": null,
   "id": "ea5c028a",
   "metadata": {},
   "outputs": [],
   "source": []
  }
 ],
 "metadata": {
  "kernelspec": {
   "display_name": "Python 3 (ipykernel)",
   "language": "python",
   "name": "python3"
  },
  "language_info": {
   "codemirror_mode": {
    "name": "ipython",
    "version": 3
   },
   "file_extension": ".py",
   "mimetype": "text/x-python",
   "name": "python",
   "nbconvert_exporter": "python",
   "pygments_lexer": "ipython3",
   "version": "3.11.5"
  }
 },
 "nbformat": 4,
 "nbformat_minor": 5
}
