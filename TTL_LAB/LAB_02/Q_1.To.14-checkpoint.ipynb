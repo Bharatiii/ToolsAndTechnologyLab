{
 "cells": [
  {
   "cell_type": "code",
   "execution_count": 1,
   "id": "3117c2ff",
   "metadata": {},
   "outputs": [
    {
     "name": "stdout",
     "output_type": "stream",
     "text": [
      "Welcome to the Number Guessing Game!\n",
      "Enter your guess (between 1 and 100): 10\n",
      "Too low! Try again.\n",
      "Enter your guess (between 1 and 100): 50\n",
      "Too low! Try again.\n",
      "Enter your guess (between 1 and 100): 78\n",
      "Too high! Try again.\n",
      "Enter your guess (between 1 and 100): 55\n",
      "Too low! Try again.\n",
      "Enter your guess (between 1 and 100): 66\n",
      "Too high! Try again.\n",
      "Enter your guess (between 1 and 100): 60\n",
      "Too high! Try again.\n",
      "Enter your guess (between 1 and 100): 58\n",
      "Congratulations! You guessed the correct number 58 in 7 attempts.\n"
     ]
    }
   ],
   "source": [
    "#Q1.Create a randomly generated number where the user has to guess the randomly generated number.\n",
    "#Use branching and looping and flow control statement to manage the games flow\n",
    "\n",
    "#note:1.1 Use random module to generate a random number between specified range.This will be the number user \n",
    "#need to guess.\n",
    "#1.2 Use a while loop repeatedly prompt the user for their guess until they correctly guess the number.\n",
    "#1.3 Use else_if statement to check if the user guess is correct,too high ,or too low.\n",
    "#1.4 Introduce flow control statement like continue to skip certain part of the loop or break to exit the loop\n",
    "#when the correct guess is made.\n",
    "\n",
    "import random\n",
    "\n",
    "def number_guessing_game():\n",
    "    print(\"Welcome to the Number Guessing Game!\")\n",
    "    \n",
    "    # Generate a random number between 1 and 100\n",
    "    secret_number = random.randint(1, 100)\n",
    "    \n",
    "    attempts = 0\n",
    "    max_attempts = 10\n",
    "    \n",
    "    while attempts < max_attempts:\n",
    "        guess = int(input(\"Enter your guess (between 1 and 100): \"))\n",
    "        \n",
    "        # Check if the guess is correct\n",
    "        if guess == secret_number:\n",
    "            print(f\"Congratulations! You guessed the correct number {secret_number} in {attempts + 1} attempts.\")\n",
    "            break\n",
    "        elif guess < secret_number:\n",
    "            print(\"Too low! Try again.\")\n",
    "        else:\n",
    "            print(\"Too high! Try again.\")\n",
    "        \n",
    "        attempts += 1\n",
    "    \n",
    "    if attempts == max_attempts:\n",
    "        print(f\"Sorry, you've reached the maximum number of attempts. The correct number was {secret_number}.\")\n",
    "\n",
    "if __name__ == \"__main__\":\n",
    "    number_guessing_game()\n"
   ]
  },
  {
   "cell_type": "code",
   "execution_count": 2,
   "id": "5ef48179",
   "metadata": {},
   "outputs": [
    {
     "name": "stdout",
     "output_type": "stream",
     "text": [
      "Fibonacci sequence up to 10 terms: [0, 1, 1, 2, 3, 5, 8, 13, 21, 34]\n"
     ]
    }
   ],
   "source": [
    "#Q2. Write a function to generate a fibonacci sequence up to specified number of terms.\n",
    "\n",
    "def generate_fibonacci(n):\n",
    "    fibonacci_sequence = []\n",
    "    \n",
    "    # First two terms of the sequence\n",
    "    a, b = 0, 1\n",
    "    \n",
    "    for _ in range(n):\n",
    "        fibonacci_sequence.append(a)\n",
    "        a, b = b, a + b\n",
    "    \n",
    "    return fibonacci_sequence\n",
    "\n",
    "# Example: Generate Fibonacci sequence up to 10 terms\n",
    "number_of_terms = 10\n",
    "fibonacci_result = generate_fibonacci(number_of_terms)\n",
    "\n",
    "print(f\"Fibonacci sequence up to {number_of_terms} terms: {fibonacci_result}\")\n"
   ]
  },
  {
   "cell_type": "code",
   "execution_count": 4,
   "id": "55a910d0",
   "metadata": {},
   "outputs": [
    {
     "name": "stdout",
     "output_type": "stream",
     "text": [
      "Enter a number to check if it's prime: 8\n",
      "8 is not a prime number.\n"
     ]
    }
   ],
   "source": [
    "#Q3. Write a function to check if the number given is prime or not.\n",
    "\n",
    "def is_prime(number):\n",
    "    if number < 2:\n",
    "        return False\n",
    "    for i in range(2, int(number**0.5) + 1):\n",
    "        if number % i == 0:\n",
    "            return False\n",
    "    return True\n",
    "\n",
    "# Example: Check if a number is prime\n",
    "user_input = int(input(\"Enter a number to check if it's prime: \"))\n",
    "\n",
    "if is_prime(user_input):\n",
    "    print(f\"{user_input} is a prime number.\")\n",
    "else:\n",
    "    print(f\"{user_input} is not a prime number.\")\n"
   ]
  },
  {
   "cell_type": "code",
   "execution_count": 6,
   "id": "cee4d8c1",
   "metadata": {},
   "outputs": [
    {
     "name": "stdout",
     "output_type": "stream",
     "text": [
      "Enter a string: hello my name is bharati\n",
      "Number of words in the given string: 5\n"
     ]
    }
   ],
   "source": [
    "#Q4. Write a function to count the number of words in the given string.\n",
    "\n",
    "def count_words(input_string):\n",
    "    words = input_string.split()\n",
    "    return len(words)\n",
    "\n",
    "# Example: Count the number of words in a string\n",
    "user_input = input(\"Enter a string: \")\n",
    "word_count = count_words(user_input)\n",
    "\n",
    "print(f\"Number of words in the given string: {word_count}\")\n"
   ]
  },
  {
   "cell_type": "code",
   "execution_count": 22,
   "id": "8ec0949a",
   "metadata": {},
   "outputs": [
    {
     "name": "stdout",
     "output_type": "stream",
     "text": [
      "Word occurrences in the text file:\n",
      "hello: 2\n",
      "my: 4\n",
      "name: 3\n",
      "is: 5\n",
      "bharati: 2\n",
      "ana: 1\n",
      "college: 2\n",
      "kiit: 2\n",
      "this: 1\n",
      "for: 1\n",
      "python: 1\n",
      "code: 1\n",
      "and: 1\n"
     ]
    }
   ],
   "source": [
    "#Q5. Create a python scripts that reads the text file,Count the occurence of the each word and print the results.\n",
    "\n",
    "def count_word_occurrences(file_path):\n",
    "    try:\n",
    "        with open(file_path, 'r') as file:\n",
    "            text = file.read()\n",
    "            words = text.split()\n",
    "            word_count = {}\n",
    "            \n",
    "            for word in words:\n",
    "                # Remove punctuation and convert to lowercase for consistency\n",
    "                word = word.strip('.,!?()[]{}\":;')\n",
    "                word = word.lower()\n",
    "                \n",
    "                # Count occurrences of each word\n",
    "                if word in word_count:\n",
    "                    word_count[word] += 1\n",
    "                else:\n",
    "                    word_count[word] = 1\n",
    "            \n",
    "            # Print the results\n",
    "            print(\"Word occurrences in the text file:\")\n",
    "            for word, count in word_count.items():\n",
    "                print(f\"{word}: {count}\")\n",
    "    \n",
    "    except FileNotFoundError:\n",
    "        print(f\"Error: File not found at {file_path}\")\n",
    "    except Exception as e:\n",
    "        print(f\"An error occurred: {e}\")\n",
    "\n",
    "# Example: Provide the path to your text file\n",
    "file_path = \"C:/Users/KIIT/Desktop/TTL_LAB/LAB_02/file_q5.txt\"\n",
    "count_word_occurrences(file_path)\n"
   ]
  },
  {
   "cell_type": "code",
   "execution_count": 11,
   "id": "8947d41e",
   "metadata": {},
   "outputs": [
    {
     "name": "stdout",
     "output_type": "stream",
     "text": [
      "Common elements: [3, 4, 5]\n"
     ]
    }
   ],
   "source": [
    "#Q6. Write a function that takes the two lists and return a new list containning common elements.\n",
    "\n",
    "def find_common_elements(list1, list2):\n",
    "    # Using set intersection to find common elements\n",
    "    common_elements = list(set(list1) & set(list2))\n",
    "    return common_elements\n",
    "\n",
    "# Example: Find common elements in two lists\n",
    "list1 = [1, 2, 3, 4, 5]\n",
    "list2 = [3, 4, 5, 6, 7]\n",
    "\n",
    "result = find_common_elements(list1, list2)\n",
    "print(f\"Common elements: {result}\")\n"
   ]
  },
  {
   "cell_type": "code",
   "execution_count": 12,
   "id": "8b63b9ac",
   "metadata": {},
   "outputs": [
    {
     "name": "stdout",
     "output_type": "stream",
     "text": [
      "Enter a string: Hey my name is Bharati.\n",
      "Number of vowels in the given string: 7\n"
     ]
    }
   ],
   "source": [
    "#Q7. Write a function to count the number of vowels in the string.\n",
    "\n",
    "def count_vowels(input_string):\n",
    "    vowels = \"aeiouAEIOU\"\n",
    "    vowel_count = 0\n",
    "    \n",
    "    for char in input_string:\n",
    "        if char in vowels:\n",
    "            vowel_count += 1\n",
    "    \n",
    "    return vowel_count\n",
    "\n",
    "# Example: Count the number of vowels in a string\n",
    "user_input = input(\"Enter a string: \")\n",
    "vowel_count = count_vowels(user_input)\n",
    "\n",
    "print(f\"Number of vowels in the given string: {vowel_count}\")\n"
   ]
  },
  {
   "cell_type": "code",
   "execution_count": 13,
   "id": "73a90c54",
   "metadata": {},
   "outputs": [
    {
     "name": "stdout",
     "output_type": "stream",
     "text": [
      "Element 8 found at index 7.\n"
     ]
    }
   ],
   "source": [
    "#Q8. Implement the binary search algorithm to find the index of the target element in a sorted list.\n",
    "\n",
    "def binary_search(sorted_list, target):\n",
    "    low, high = 0, len(sorted_list) - 1\n",
    "    \n",
    "    while low <= high:\n",
    "        mid = (low + high) // 2\n",
    "        mid_value = sorted_list[mid]\n",
    "        \n",
    "        if mid_value == target:\n",
    "            return mid  # Found the target, return its index\n",
    "        elif mid_value < target:\n",
    "            low = mid + 1\n",
    "        else:\n",
    "            high = mid - 1\n",
    "    \n",
    "    return -1  # Target not found in the list\n",
    "\n",
    "# Example: Binary search in a sorted list\n",
    "sorted_list = [1, 2, 3, 4, 5, 6, 7, 8, 9, 10]\n",
    "target_element = 8\n",
    "\n",
    "result = binary_search(sorted_list, target_element)\n",
    "\n",
    "if result != -1:\n",
    "    print(f\"Element {target_element} found at index {result}.\")\n",
    "else:\n",
    "    print(f\"Element {target_element} not found in the list.\")\n"
   ]
  },
  {
   "cell_type": "code",
   "execution_count": 14,
   "id": "67c5cd7d",
   "metadata": {},
   "outputs": [
    {
     "name": "stdout",
     "output_type": "stream",
     "text": [
      "Element 4 found at index 6.\n"
     ]
    }
   ],
   "source": [
    "#Q9. IMplemet a linear search to find out the index of the target elent in the list.\n",
    "\n",
    "def linear_search(input_list, target):\n",
    "    for index, element in enumerate(input_list):\n",
    "        if element == target:\n",
    "            return index  # Found the target, return its index\n",
    "    return -1  # Target not found in the list\n",
    "\n",
    "# Example: Linear search in a list\n",
    "my_list = [3, 6, 8, 2, 7, 1, 4, 9, 5]\n",
    "target_element = 4\n",
    "\n",
    "result = linear_search(my_list, target_element)\n",
    "\n",
    "if result != -1:\n",
    "    print(f\"Element {target_element} found at index {result}.\")\n",
    "else:\n",
    "    print(f\"Element {target_element} not found in the list.\")\n"
   ]
  },
  {
   "cell_type": "code",
   "execution_count": 15,
   "id": "154cec86",
   "metadata": {},
   "outputs": [
    {
     "name": "stdout",
     "output_type": "stream",
     "text": [
      "The missing number is: 5\n"
     ]
    }
   ],
   "source": [
    "#Q10. Given a list of integers from 1 to N with one number missing .Find out the missing number.\n",
    "\n",
    "def find_missing_number(nums, n):\n",
    "    # Calculate the expected sum of integers from 1 to N\n",
    "    expected_sum = (n * (n + 1)) // 2\n",
    "    \n",
    "    # Calculate the actual sum of the given list\n",
    "    actual_sum = sum(nums)\n",
    "    \n",
    "    # The missing number is the difference between the expected and actual sums\n",
    "    missing_number = expected_sum - actual_sum\n",
    "    \n",
    "    return missing_number\n",
    "\n",
    "# Example: Find the missing number in a list of integers from 1 to N\n",
    "n = 10\n",
    "given_list = [1, 2, 3, 4, 6, 7, 8, 9, 10]\n",
    "\n",
    "missing_number = find_missing_number(given_list, n)\n",
    "\n",
    "print(f\"The missing number is: {missing_number}\")\n",
    "\n"
   ]
  },
  {
   "cell_type": "code",
   "execution_count": 16,
   "id": "f41460db",
   "metadata": {},
   "outputs": [
    {
     "name": "stdout",
     "output_type": "stream",
     "text": [
      "Enter a string: hey what's up?\n",
      "The second-to-last element is: p\n"
     ]
    }
   ],
   "source": [
    "#Q11. Find out the second last element in a string.\n",
    "\n",
    "def find_second_last_element(input_string):\n",
    "    if len(input_string) < 2:\n",
    "        return None  # Return None if the string has less than two elements\n",
    "    \n",
    "    second_last_element = input_string[-2]\n",
    "    return second_last_element\n",
    "\n",
    "# Example: Find the second-to-last element in a string\n",
    "user_input = input(\"Enter a string: \")\n",
    "result = find_second_last_element(user_input)\n",
    "\n",
    "if result is not None:\n",
    "    print(f\"The second-to-last element is: {result}\")\n",
    "else:\n",
    "    print(\"The string has less than two elements.\")\n"
   ]
  },
  {
   "cell_type": "code",
   "execution_count": 17,
   "id": "9203d105",
   "metadata": {},
   "outputs": [
    {
     "name": "stdout",
     "output_type": "stream",
     "text": [
      "The second-to-last element is: 4\n"
     ]
    }
   ],
   "source": [
    "#Q12. Find out the second last element in a list.\n",
    "\n",
    "def find_second_last_element(input_list):\n",
    "    if len(input_list) < 2:\n",
    "        return None  # Return None if the list has less than two elements\n",
    "    \n",
    "    second_last_element = input_list[-2]\n",
    "    return second_last_element\n",
    "\n",
    "# Example: Find the second-to-last element in a list\n",
    "my_list = [1, 2, 3, 4, 5]\n",
    "result = find_second_last_element(my_list)\n",
    "\n",
    "if result is not None:\n",
    "    print(f\"The second-to-last element is: {result}\")\n",
    "else:\n",
    "    print(\"The list has less than two elements.\")\n"
   ]
  },
  {
   "cell_type": "code",
   "execution_count": 19,
   "id": "a3bef82d",
   "metadata": {},
   "outputs": [
    {
     "name": "stdout",
     "output_type": "stream",
     "text": [
      "Original array: [1, 2, 3, 4, 5]\n",
      "Rotated array by 3 steps: [3, 4, 5, 1, 2]\n"
     ]
    }
   ],
   "source": [
    "#Q13. Rotate and array by given number of steps.\n",
    "\n",
    "def rotate_array(arr, steps):\n",
    "    length = len(arr)\n",
    "    \n",
    "    if length == 0:\n",
    "        return arr  # Return the array as is if it's empty\n",
    "    \n",
    "    # Calculate the effective number of steps by taking modulo\n",
    "    effective_steps = steps % length\n",
    "    \n",
    "    # Use slicing to create the rotated array\n",
    "    rotated_array = arr[-effective_steps:] + arr[:-effective_steps]\n",
    "    \n",
    "    return rotated_array\n",
    "\n",
    "# Example: Rotate an array by a given number of steps\n",
    "original_array = [1, 2, 3, 4, 5]\n",
    "rotation_steps = 3\n",
    "\n",
    "rotated_result = rotate_array(original_array, rotation_steps)\n",
    "\n",
    "print(f\"Original array: {original_array}\")\n",
    "print(f\"Rotated array by {rotation_steps} steps: {rotated_result}\")\n"
   ]
  },
  {
   "cell_type": "code",
   "execution_count": 21,
   "id": "36f66444",
   "metadata": {},
   "outputs": [
    {
     "name": "stdout",
     "output_type": "stream",
     "text": [
      "The second smallest element is: 2\n"
     ]
    }
   ],
   "source": [
    "#Q14. Find out the Second smallest element from the list.\n",
    "\n",
    "def find_second_smallest(input_list):\n",
    "    if len(input_list) < 2:\n",
    "        return None  # Return None if the list has less than two elements\n",
    "    \n",
    "    sorted_list = sorted(input_list)\n",
    "    second_smallest = sorted_list[1]\n",
    "    \n",
    "    return second_smallest\n",
    "\n",
    "# Example: Find the second smallest element in a list\n",
    "my_list = [8, 3, 5, 2, 7, 1, 4, 9, 6]\n",
    "result = find_second_smallest(my_list)\n",
    "\n",
    "if result is not None:\n",
    "    print(f\"The second smallest element is: {result}\")\n",
    "else:\n",
    "    print(\"The list has less than two elements.\")\n"
   ]
  },
  {
   "cell_type": "code",
   "execution_count": null,
   "id": "8a4c868c",
   "metadata": {},
   "outputs": [],
   "source": []
  }
 ],
 "metadata": {
  "kernelspec": {
   "display_name": "Python 3 (ipykernel)",
   "language": "python",
   "name": "python3"
  },
  "language_info": {
   "codemirror_mode": {
    "name": "ipython",
    "version": 3
   },
   "file_extension": ".py",
   "mimetype": "text/x-python",
   "name": "python",
   "nbconvert_exporter": "python",
   "pygments_lexer": "ipython3",
   "version": "3.11.5"
  }
 },
 "nbformat": 4,
 "nbformat_minor": 5
}
